{
  "cells": [
    {
      "cell_type": "code",
      "execution_count": 36,
      "metadata": {
        "id": "oh3n9k2M910E"
      },
      "outputs": [],
      "source": [
        "# import modules\n",
        "import requests\n",
        "import json\n",
        "import time\n",
        "import os\n",
        "from dotenv import load_dotenv # Need to use this in anaconda prompt: pip3 install python-dotenv\n",
        "\n",
        "# load .env file\n",
        "load_dotenv(\"APIKey.env\")\n",
        "\n",
        "# get api key from .env file\n",
        "key = os.environ.get(\"key\")\n",
        "\n",
        "# The specific Model id. Insert it here.\n",
        "model_id = \"1cc96b76-92f7-4253-9092-bfb5d5de7d52\"\n",
        "\n",
        "# If the code is to be used elsewhere, insert the API key here instead of the variable.\n",
        "API_KEY = key\n",
        "\n",
        "HEADERS = {\n",
        "    \"accept\": \"application/json\",\n",
        "    \"content-type\": \"application/json\",\n",
        "    \"authorization\": f\"Bearer {API_KEY}\"\n",
        "}"
      ]
    },
    {
      "cell_type": "code",
      "execution_count": 37,
      "metadata": {},
      "outputs": [],
      "source": [
        "def get_model_version(model_id, version_id):\n",
        "    url = f\"https://api.tryleap.ai/api/v1/images/models/{model_id}/versions/{version_id}\"\n",
        "    response = requests.get(url, headers=HEADERS)\n",
        "    data = json.loads(response.text)\n",
        "\n",
        "    version_id = data[\"id\"]\n",
        "    status = data[\"status\"]\n",
        "\n",
        "    print(f\"Version ID: {version_id}. Status: {status}\")\n",
        "\n",
        "    return version_id, status"
      ]
    },
    {
      "cell_type": "code",
      "execution_count": 38,
      "metadata": {},
      "outputs": [],
      "source": [
        "def generate_image(model_id, prompt):\n",
        "    url = f\"https://api.tryleap.ai/api/v1/images/models/{model_id}/inferences\"\n",
        "\n",
        "    payload = {\n",
        "        \"prompt\": prompt,\n",
        "        \"steps\": 50,\n",
        "        \"width\": 512,\n",
        "        \"height\": 512,\n",
        "        \"numberOfImages\": 2,\n",
        "        \"seed\": 4523184\n",
        "    }\n",
        "\n",
        "    response = requests.post(url, json=payload, headers=HEADERS)\n",
        "    data = json.loads(response.text)\n",
        "\n",
        "    inference_id = data[\"id\"]\n",
        "    status = data[\"status\"]\n",
        "\n",
        "    print(f\"Inference ID: {inference_id}. Status: {status}\")\n",
        "\n",
        "    return inference_id, status"
      ]
    },
    {
      "cell_type": "code",
      "execution_count": 39,
      "metadata": {
        "id": "seoBu0hK_ijD"
      },
      "outputs": [],
      "source": [
        "def get_inference_job(model_id, inference_id):\n",
        "    url = f\"https://api.tryleap.ai/api/v1/images/models/{model_id}/inferences/{inference_id}\"\n",
        "\n",
        "    response = requests.get(url, headers=HEADERS)\n",
        "    data = json.loads(response.text)\n",
        "\n",
        "    inference_id = data[\"id\"]\n",
        "    state = data[\"state\"]\n",
        "    image = None\n",
        "\n",
        "    if len(data[\"images\"]):\n",
        "        image = data[\"images\"][0][\"uri\"]\n",
        "\n",
        "    print(f\"Inference ID: {inference_id}. State: {state}\")\n",
        "\n",
        "    return inference_id, state, image"
      ]
    },
    {
      "cell_type": "code",
      "execution_count": 41,
      "metadata": {
        "id": "_pXpe_iiCkqq"
      },
      "outputs": [
        {
          "name": "stdout",
          "output_type": "stream",
          "text": [
            "Inference ID: 4cf583e6-54a6-4a6f-972a-180cb29c40e8. Status: queued\n",
            "Inference ID: 4cf583e6-54a6-4a6f-972a-180cb29c40e8. State: queued\n",
            "Inference ID: 4cf583e6-54a6-4a6f-972a-180cb29c40e8. State: queued\n",
            "Inference ID: 4cf583e6-54a6-4a6f-972a-180cb29c40e8. State: finished\n",
            "https://dreamtrain.s3.us-west-2.amazonaws.com/image-gen-4cf583e6-54a6-4a6f-972a-180cb29c40e8/generated_images/1.png\n"
          ]
        }
      ],
      "source": [
        "# Now that we have a fine-tuned version of a model, we can\n",
        "# generate images using it. Notice how I'm using '@me' to \n",
        "# indicate I want pictures similar to the ones we upload to \n",
        "\n",
        "# Prompt text. Insert text here. Remember to use the @\n",
        "promptText = \"A photo of @Andreas ultrarealistic, half of the face in shadow, looking serious\"\n",
        "\n",
        "inference_id, status = generate_image(\n",
        "    model_id, \n",
        "    prompt = promptText\n",
        ")\n",
        "while status != \"finished\":\n",
        "    time.sleep(10)\n",
        "    inference_id, status, image = get_inference_job(model_id, inference_id)\n",
        "\n",
        "print(image)"
      ]
    },
    {
      "cell_type": "code",
      "execution_count": null,
      "metadata": {
        "id": "nJPkQfJhRih6"
      },
      "outputs": [],
      "source": []
    }
  ],
  "metadata": {
    "colab": {
      "provenance": []
    },
    "kernelspec": {
      "display_name": "Python 3",
      "name": "python3"
    },
    "language_info": {
      "codemirror_mode": {
        "name": "ipython",
        "version": 3
      },
      "file_extension": ".py",
      "mimetype": "text/x-python",
      "name": "python",
      "nbconvert_exporter": "python",
      "pygments_lexer": "ipython3",
      "version": "3.9.12"
    }
  },
  "nbformat": 4,
  "nbformat_minor": 0
}
