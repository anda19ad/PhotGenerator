{
  "cells": [
    {
      "cell_type": "code",
      "execution_count": 54,
      "metadata": {
        "id": "oh3n9k2M910E"
      },
      "outputs": [],
      "source": [
        "# import modules\n",
        "import requests\n",
        "import json\n",
        "import time\n",
        "import os\n",
        "from dotenv import load_dotenv # Need to use this in anaconda prompt: pip3 install python-dotenv\n",
        "\n",
        "# For displaying the images\n",
        "import pprint\n",
        "import json\n",
        "\n",
        "# load .env file\n",
        "load_dotenv(\"APIKey.env\")\n",
        "\n",
        "# get api key from .env file\n",
        "key = os.environ.get(\"key\")\n",
        "\n",
        "# Getting the Model id from the .env file. The specific Model id. Insert it here.\n",
        "model_id = os.environ.get(\"model_id\")\n",
        "\n",
        "# If the code is to be used elsewhere, insert the API key here instead of the variable.\n",
        "API_KEY = key\n",
        "\n",
        "HEADERS = {\n",
        "    \"accept\": \"application/json\",\n",
        "    \"content-type\": \"application/json\",\n",
        "    \"authorization\": f\"Bearer {API_KEY}\"\n",
        "}"
      ]
    },
    {
      "cell_type": "code",
      "execution_count": 11,
      "metadata": {},
      "outputs": [],
      "source": [
        "def get_model_version(model_id, version_id):\n",
        "    url = f\"https://api.tryleap.ai/api/v1/images/models/{model_id}/versions/{version_id}\"\n",
        "    response = requests.get(url, headers=HEADERS)\n",
        "    data = json.loads(response.text)\n",
        "\n",
        "    version_id = data[\"id\"]\n",
        "    status = data[\"status\"]\n",
        "\n",
        "    print(f\"Version ID: {version_id}. Status: {status}\")\n",
        "\n",
        "    return version_id, status"
      ]
    },
    {
      "cell_type": "code",
      "execution_count": 12,
      "metadata": {},
      "outputs": [],
      "source": [
        "def generate_image(model_id, prompt):\n",
        "    url = f\"https://api.tryleap.ai/api/v1/images/models/{model_id}/inferences\"\n",
        "\n",
        "    payload = {\n",
        "        \"prompt\": prompt,\n",
        "        \"steps\": 50,\n",
        "        \"width\": 512,\n",
        "        \"height\": 512,\n",
        "        \"numberOfImages\": 2,\n",
        "        \"seed\": 4523184\n",
        "    }\n",
        "\n",
        "    response = requests.post(url, json=payload, headers=HEADERS)\n",
        "    data = json.loads(response.text)\n",
        "\n",
        "    inference_id = data[\"id\"]\n",
        "    status = data[\"status\"]\n",
        "\n",
        "    print(f\"Inference ID: {inference_id}. Status: {status}\")\n",
        "\n",
        "    return inference_id, status"
      ]
    },
    {
      "cell_type": "code",
      "execution_count": 13,
      "metadata": {
        "id": "seoBu0hK_ijD"
      },
      "outputs": [],
      "source": [
        "def get_inference_job(model_id, inference_id):\n",
        "    url = f\"https://api.tryleap.ai/api/v1/images/models/{model_id}/inferences/{inference_id}\"\n",
        "\n",
        "    response = requests.get(url, headers=HEADERS)\n",
        "    data = json.loads(response.text)\n",
        "\n",
        "    inference_id = data[\"id\"]\n",
        "    state = data[\"state\"]\n",
        "    image = None\n",
        "\n",
        "    if len(data[\"images\"]):\n",
        "        image = data[\"images\"][0][\"uri\"]\n",
        "\n",
        "    print(f\"Inference ID: {inference_id}. State: {state}\")\n",
        "\n",
        "    return inference_id, state, image"
      ]
    },
    {
      "cell_type": "code",
      "execution_count": 51,
      "metadata": {
        "id": "_pXpe_iiCkqq"
      },
      "outputs": [
        {
          "name": "stdout",
          "output_type": "stream",
          "text": [
            "Inference ID: c2ce7699-963e-466b-b269-585936b7b335. Status: queued\n",
            "Inference ID: c2ce7699-963e-466b-b269-585936b7b335. State: queued\n",
            "Inference ID: c2ce7699-963e-466b-b269-585936b7b335. State: queued\n",
            "Inference ID: c2ce7699-963e-466b-b269-585936b7b335. State: queued\n",
            "Inference ID: c2ce7699-963e-466b-b269-585936b7b335. State: finished\n",
            "ng\n"
          ]
        }
      ],
      "source": [
        "# Now that we have a fine-tuned version of a model, we can\n",
        "# generate images using it. Notice how I'm using '@me' to \n",
        "# indicate I want pictures similar to the ones we upload to \n",
        "\n",
        "# Prompt text. Insert text here. Remember to use the @\n",
        "promptText = \"A photo of @Andreas with a cigar, sunglasses, hawaii shirt, and a sombrero\"\n",
        "\n",
        "inference_id, status = generate_image(\n",
        "    model_id, \n",
        "    prompt = promptText\n",
        ")\n",
        "while status != \"finished\":\n",
        "    time.sleep(10)\n",
        "    inference_id, status, image = get_inference_job(model_id, inference_id)\n",
        "\n",
        "# Only one of the examples are printed here. For all versions go check the code block below\n",
        "print(image)"
      ]
    },
    {
      "cell_type": "code",
      "execution_count": 52,
      "metadata": {
        "id": "nJPkQfJhRih6"
      },
      "outputs": [
        {
          "name": "stdout",
          "output_type": "stream",
          "text": [
            "[{'createdAt': '2023-03-20T08:37:40.37697+00:00',\n",
            "  'height': 512,\n",
            "  'id': '7468249e-edd3-4d9a-a649-79c8159ce86d',\n",
            "  'images': [{'createdAt': '2023-03-20T08:38:04.727Z',\n",
            "              'id': 'dd771392-92f3-4f28-ae2f-800b1cf8128c',\n",
            "              'uri': 'https://dreamtrain.s3.us-west-2.amazonaws.com/image-gen-7468249e-edd3-4d9a-a649-79c8159ce86d/generated_images/1.png'},\n",
            "             {'createdAt': '2023-03-20T08:38:04.727Z',\n",
            "              'id': 'ecfb6c22-4dca-4b15-be96-eb2973d591e6',\n",
            "              'uri': 'https://dreamtrain.s3.us-west-2.amazonaws.com/image-gen-7468249e-edd3-4d9a-a649-79c8159ce86d/generated_images/0.png'}],\n",
            "  'modelId': '1cc96b76-92f7-4253-9092-bfb5d5de7d52',\n",
            "  'negativePrompt': '',\n",
            "  'numberOfImages': 2,\n",
            "  'prompt': 'a photo of ynmfenw91g person with sunglasses, a cigar, hawaii '\n",
            "            'shirt, and a sombrero',\n",
            "  'promptStrength': 7,\n",
            "  'seed': 4523184,\n",
            "  'status': 'finished',\n",
            "  'steps': 50,\n",
            "  'width': 512},\n",
            " {'createdAt': '2023-03-20T08:45:42.911424+00:00',\n",
            "  'height': 512,\n",
            "  'id': 'd9b99359-f51a-4b64-9f90-16b296a3d94b',\n",
            "  'images': [{'createdAt': '2023-03-20T08:46:05.428Z',\n",
            "              'id': 'fcc6320d-8ae3-466e-933f-0eefd4e2aaec',\n",
            "              'uri': 'https://dreamtrain.s3.us-west-2.amazonaws.com/image-gen-d9b99359-f51a-4b64-9f90-16b296a3d94b/generated_images/0.png'},\n",
            "             {'createdAt': '2023-03-20T08:46:05.428Z',\n",
            "              'id': '21347b1a-2652-49b6-9bde-211cecb33f73',\n",
            "              'uri': 'https://dreamtrain.s3.us-west-2.amazonaws.com/image-gen-d9b99359-f51a-4b64-9f90-16b296a3d94b/generated_images/1.png'}],\n",
            "  'modelId': '1cc96b76-92f7-4253-9092-bfb5d5de7d52',\n",
            "  'negativePrompt': '',\n",
            "  'numberOfImages': 2,\n",
            "  'prompt': 'a photo of ynmfenw91g person with, a cigar, hawaii shirt, and a '\n",
            "            'sombrero',\n",
            "  'promptStrength': 7,\n",
            "  'seed': 4523184,\n",
            "  'status': 'finished',\n",
            "  'steps': 50,\n",
            "  'width': 512},\n",
            " {'createdAt': '2023-03-20T12:27:10.414068+00:00',\n",
            "  'height': 512,\n",
            "  'id': 'c2ce7699-963e-466b-b269-585936b7b335',\n",
            "  'images': [{'createdAt': '2023-03-20T12:27:44.452Z',\n",
            "              'id': 'b4151fcb-a6ba-4354-9735-b917daa548e4',\n",
            "              'uri': 'https://dreamtrain.s3.us-west-2.amazonaws.com/image-gen-c2ce7699-963e-466b-b269-585936b7b335/generated_images/0.png'},\n",
            "             {'createdAt': '2023-03-20T12:27:44.452Z',\n",
            "              'id': 'b34e291e-9585-46eb-939c-eeee7c86658a',\n",
            "              'uri': 'https://dreamtrain.s3.us-west-2.amazonaws.com/image-gen-c2ce7699-963e-466b-b269-585936b7b335/generated_images/1.png'}],\n",
            "  'modelId': '1cc96b76-92f7-4253-9092-bfb5d5de7d52',\n",
            "  'negativePrompt': '',\n",
            "  'numberOfImages': 2,\n",
            "  'prompt': 'a photo of ynmfenw91g person with a cigar, sunglasses, hawaii '\n",
            "            'shirt, and a sombrero',\n",
            "  'promptStrength': 7,\n",
            "  'seed': 4523184,\n",
            "  'status': 'finished',\n",
            "  'steps': 50,\n",
            "  'width': 512}]\n"
          ]
        }
      ],
      "source": [
        "# Listing images, see API: https://www.tryleap.ai/projects/ba2ce5ea-8721-4153-ad05-a6eafbdcbb4f/models/docs\n",
        "\n",
        "urlList = f\"https://api.tryleap.ai/api/v1/images/models/{model_id}/inferences\"\n",
        "\n",
        "response = requests.get(urlList, headers=HEADERS)\n",
        "\n",
        "# ordering the list with new objects on new lines. Printing the latest 3 versions\n",
        "ImageList = json.loads(response.text)\n",
        "pprint.pprint(ImageList[-3:])\n"
      ]
    },
    {
      "cell_type": "code",
      "execution_count": null,
      "metadata": {},
      "outputs": [],
      "source": []
    }
  ],
  "metadata": {
    "colab": {
      "provenance": []
    },
    "kernelspec": {
      "display_name": "Python 3",
      "name": "python3"
    },
    "language_info": {
      "codemirror_mode": {
        "name": "ipython",
        "version": 3
      },
      "file_extension": ".py",
      "mimetype": "text/x-python",
      "name": "python",
      "nbconvert_exporter": "python",
      "pygments_lexer": "ipython3",
      "version": "3.9.12"
    }
  },
  "nbformat": 4,
  "nbformat_minor": 0
}
