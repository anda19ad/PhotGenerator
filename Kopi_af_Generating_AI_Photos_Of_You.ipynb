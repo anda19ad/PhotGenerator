{
  "cells": [
    {
      "cell_type": "code",
      "execution_count": 97,
      "metadata": {
        "id": "oh3n9k2M910E"
      },
      "outputs": [],
      "source": [
        "# import modules\n",
        "import requests\n",
        "import json\n",
        "import time\n",
        "import os\n",
        "from dotenv import load_dotenv\n",
        "\n",
        "# load .env file\n",
        "load_dotenv(\"APIKey.env\")\n",
        "\n",
        "# get api key from .env file\n",
        "key = os.environ.get(\"key\")\n",
        "\n",
        "API_KEY = key\n",
        "\n",
        "HEADERS = {\n",
        "    \"accept\": \"application/json\",\n",
        "    \"content-type\": \"application/json\",\n",
        "    \"authorization\": f\"Bearer {API_KEY}\"\n",
        "}\n",
        "\n",
        "# Getting the images locally\n",
        "image1 = Image(url=\"jpg1.png\")\n",
        "image2 = Image(url=\"jpg2.jpg\")\n",
        "image3 = Image(url=\"jpg3.jpeg\")\n",
        "image4 = Image(url=\"jpg4.png\")\n",
        "\n",
        "\n",
        "\n",
        "#IMAGES = [\n",
        "#    image1,\n",
        "#    image2,\n",
        "#    image3,\n",
        "#    image4\n",
        "#]\n",
        "IMAGES = [\n",
        "    \"https://i.natgeofe.com/k/271050d8-1821-49b8-bf0b-3a4a72b6384a/obama-portrait__3x2.jpg\",\n",
        "    \"https://d3hjzzsa8cr26l.cloudfront.net/516e6836-d278-11ea-a709-979a0378f022.jpg\",\n",
        "    \"https://hips.hearstapps.com/hmg-prod/images/gettyimages-1239961811.jpg\"\n",
        "]"
      ]
    },
    {
      "cell_type": "code",
      "execution_count": 98,
      "metadata": {},
      "outputs": [],
      "source": [
        "def create_model(title):\n",
        "    url = \"https://api.tryleap.ai/api/v1/images/models\"\n",
        "\n",
        "    payload = {\n",
        "        \"title\": title,\n",
        "        \"subjectKeyword\": \"@me\"\n",
        "    }\n",
        "\n",
        "    response = requests.post(url, json=payload, headers=HEADERS)\n",
        "\n",
        "    model_id = json.loads(response.text)[\"id\"]\n",
        "    return model_id"
      ]
    },
    {
      "cell_type": "code",
      "execution_count": 99,
      "metadata": {},
      "outputs": [],
      "source": [
        "def upload_image_samples(model_id):\n",
        "    url = f\"https://api.tryleap.ai/api/v1/images/models/{model_id}/samples/url\"\n",
        "\n",
        "    payload = {\"images\": IMAGES}\n",
        "    response = requests.post(url, json=payload, headers=HEADERS)"
      ]
    },
    {
      "cell_type": "code",
      "execution_count": 100,
      "metadata": {},
      "outputs": [],
      "source": [
        "\n",
        "def queue_training_job(model_id):\n",
        "    url = f\"https://api.tryleap.ai/api/v1/images/models/{model_id}/queue\"\n",
        "    response = requests.post(url, headers=HEADERS)\n",
        "    data = json.loads(response.text)\n",
        "\n",
        "    print(response.text)\n",
        "\n",
        "    version_id = data[\"id\"]\n",
        "    status = data[\"status\"]\n",
        "\n",
        "    print(f\"Version ID: {version_id}. Status: {status}\")\n",
        "\n",
        "    return version_id, status"
      ]
    },
    {
      "cell_type": "code",
      "execution_count": 101,
      "metadata": {},
      "outputs": [],
      "source": [
        "def get_model_version(model_id, version_id):\n",
        "    url = f\"https://api.tryleap.ai/api/v1/images/models/{model_id}/versions/{version_id}\"\n",
        "    response = requests.get(url, headers=HEADERS)\n",
        "    data = json.loads(response.text)\n",
        "\n",
        "    version_id = data[\"id\"]\n",
        "    status = data[\"status\"]\n",
        "\n",
        "    print(f\"Version ID: {version_id}. Status: {status}\")\n",
        "\n",
        "    return version_id, status"
      ]
    },
    {
      "cell_type": "code",
      "execution_count": 102,
      "metadata": {},
      "outputs": [],
      "source": [
        "def generate_image(model_id, prompt):\n",
        "    url = f\"https://api.tryleap.ai/api/v1/images/models/{model_id}/inferences\"\n",
        "\n",
        "    payload = {\n",
        "        \"prompt\": prompt,\n",
        "        \"steps\": 50,\n",
        "        \"width\": 512,\n",
        "        \"height\": 512,\n",
        "        \"numberOfImages\": 1,\n",
        "        \"seed\": 4523184\n",
        "    }\n",
        "\n",
        "    response = requests.post(url, json=payload, headers=HEADERS)\n",
        "    data = json.loads(response.text)\n",
        "\n",
        "    inference_id = data[\"id\"]\n",
        "    status = data[\"status\"]\n",
        "\n",
        "    print(f\"Inference ID: {inference_id}. Status: {status}\")\n",
        "\n",
        "    return inference_id, status"
      ]
    },
    {
      "cell_type": "code",
      "execution_count": 103,
      "metadata": {
        "id": "seoBu0hK_ijD"
      },
      "outputs": [],
      "source": [
        "def get_inference_job(model_id, inference_id):\n",
        "    url = f\"https://api.tryleap.ai/api/v1/images/models/{model_id}/inferences/{inference_id}\"\n",
        "\n",
        "    response = requests.get(url, headers=HEADERS)\n",
        "    data = json.loads(response.text)\n",
        "\n",
        "    inference_id = data[\"id\"]\n",
        "    state = data[\"state\"]\n",
        "    image = None\n",
        "\n",
        "    if len(data[\"images\"]):\n",
        "        image = data[\"images\"][0][\"uri\"]\n",
        "\n",
        "    print(f\"Inference ID: {inference_id}. State: {state}\")\n",
        "\n",
        "    return inference_id, state, image"
      ]
    },
    {
      "cell_type": "code",
      "execution_count": 104,
      "metadata": {
        "id": "qhmrCli2BwoK"
      },
      "outputs": [
        {
          "name": "stdout",
          "output_type": "stream",
          "text": [
            "{\"statusCode\":402,\"message\":\"You have used all of your Workspace free credits. Please upgrade to a paid account to continue using Leap.\"}\n"
          ]
        },
        {
          "ename": "KeyError",
          "evalue": "'id'",
          "output_type": "error",
          "traceback": [
            "\u001b[1;31m---------------------------------------------------------------------------\u001b[0m",
            "\u001b[1;31mKeyError\u001b[0m                                  Traceback (most recent call last)",
            "Cell \u001b[1;32mIn[104], line 10\u001b[0m\n\u001b[0;32m      5\u001b[0m upload_image_samples(model_id)\n\u001b[0;32m      7\u001b[0m \u001b[39m# Now it's time to fine tune the model. Notice how I'm continuously \u001b[39;00m\n\u001b[0;32m      8\u001b[0m \u001b[39m# getting the status of the training job and waiting until it's\u001b[39;00m\n\u001b[0;32m      9\u001b[0m \u001b[39m# finished before moving on.\u001b[39;00m\n\u001b[1;32m---> 10\u001b[0m version_id, status \u001b[39m=\u001b[39m queue_training_job(model_id)\n\u001b[0;32m     11\u001b[0m \u001b[39mwhile\u001b[39;00m status \u001b[39m!=\u001b[39m \u001b[39m\"\u001b[39m\u001b[39mfinished\u001b[39m\u001b[39m\"\u001b[39m:\n\u001b[0;32m     12\u001b[0m     time\u001b[39m.\u001b[39msleep(\u001b[39m10\u001b[39m)\n",
            "Cell \u001b[1;32mIn[100], line 8\u001b[0m, in \u001b[0;36mqueue_training_job\u001b[1;34m(model_id)\u001b[0m\n\u001b[0;32m      4\u001b[0m data \u001b[39m=\u001b[39m json\u001b[39m.\u001b[39mloads(response\u001b[39m.\u001b[39mtext)\n\u001b[0;32m      6\u001b[0m \u001b[39mprint\u001b[39m(response\u001b[39m.\u001b[39mtext)\n\u001b[1;32m----> 8\u001b[0m version_id \u001b[39m=\u001b[39m data[\u001b[39m\"\u001b[39;49m\u001b[39mid\u001b[39;49m\u001b[39m\"\u001b[39;49m]\n\u001b[0;32m      9\u001b[0m status \u001b[39m=\u001b[39m data[\u001b[39m\"\u001b[39m\u001b[39mstatus\u001b[39m\u001b[39m\"\u001b[39m]\n\u001b[0;32m     11\u001b[0m \u001b[39mprint\u001b[39m(\u001b[39mf\u001b[39m\u001b[39m\"\u001b[39m\u001b[39mVersion ID: \u001b[39m\u001b[39m{\u001b[39;00mversion_id\u001b[39m}\u001b[39;00m\u001b[39m. Status: \u001b[39m\u001b[39m{\u001b[39;00mstatus\u001b[39m}\u001b[39;00m\u001b[39m\"\u001b[39m)\n",
            "\u001b[1;31mKeyError\u001b[0m: 'id'"
          ]
        }
      ],
      "source": [
        "# Let's create a custom model so we can fine tune it.\n",
        "model_id = create_model(\"AndreasCode\")\n",
        "\n",
        "# We now upload the images to fine tune this model.\n",
        "upload_image_samples(model_id)\n",
        "\n",
        "# Now it's time to fine tune the model. Notice how I'm continuously \n",
        "# getting the status of the training job and waiting until it's\n",
        "# finished before moving on.\n",
        "version_id, status = queue_training_job(model_id)\n",
        "while status != \"finished\":\n",
        "    time.sleep(10)\n",
        "    version_id, status = get_model_version(model_id, version_id)"
      ]
    },
    {
      "cell_type": "code",
      "execution_count": null,
      "metadata": {
        "id": "_pXpe_iiCkqq"
      },
      "outputs": [
        {
          "ename": "KeyError",
          "evalue": "'id'",
          "output_type": "error",
          "traceback": [
            "\u001b[1;31m---------------------------------------------------------------------------\u001b[0m",
            "\u001b[1;31mKeyError\u001b[0m                                  Traceback (most recent call last)",
            "Cell \u001b[1;32mIn[83], line 5\u001b[0m\n\u001b[0;32m      1\u001b[0m \u001b[39m# Now that we have a fine-tuned version of a model, we can\u001b[39;00m\n\u001b[0;32m      2\u001b[0m \u001b[39m# generate images using it. Notice how I'm using '@me' to \u001b[39;00m\n\u001b[0;32m      3\u001b[0m \u001b[39m# indicate I want pictures similar to the ones we upload to \u001b[39;00m\n\u001b[0;32m      4\u001b[0m \u001b[39m# fine tune this model.\u001b[39;00m\n\u001b[1;32m----> 5\u001b[0m inference_id, status \u001b[39m=\u001b[39m generate_image(\n\u001b[0;32m      6\u001b[0m     model_id, \n\u001b[0;32m      7\u001b[0m     prompt\u001b[39m=\u001b[39;49m\u001b[39m\"\u001b[39;49m\u001b[39mA photo of @me with a tall black hat and sunglasses\u001b[39;49m\u001b[39m\"\u001b[39;49m\n\u001b[0;32m      8\u001b[0m )\n\u001b[0;32m      9\u001b[0m \u001b[39mwhile\u001b[39;00m status \u001b[39m!=\u001b[39m \u001b[39m\"\u001b[39m\u001b[39mfinished\u001b[39m\u001b[39m\"\u001b[39m:\n\u001b[0;32m     10\u001b[0m     time\u001b[39m.\u001b[39msleep(\u001b[39m10\u001b[39m)\n",
            "Cell \u001b[1;32mIn[80], line 16\u001b[0m, in \u001b[0;36mgenerate_image\u001b[1;34m(model_id, prompt)\u001b[0m\n\u001b[0;32m     13\u001b[0m response \u001b[39m=\u001b[39m requests\u001b[39m.\u001b[39mpost(url, json\u001b[39m=\u001b[39mpayload, headers\u001b[39m=\u001b[39mHEADERS)\n\u001b[0;32m     14\u001b[0m data \u001b[39m=\u001b[39m json\u001b[39m.\u001b[39mloads(response\u001b[39m.\u001b[39mtext)\n\u001b[1;32m---> 16\u001b[0m inference_id \u001b[39m=\u001b[39m data[\u001b[39m\"\u001b[39;49m\u001b[39mid\u001b[39;49m\u001b[39m\"\u001b[39;49m]\n\u001b[0;32m     17\u001b[0m status \u001b[39m=\u001b[39m data[\u001b[39m\"\u001b[39m\u001b[39mstatus\u001b[39m\u001b[39m\"\u001b[39m]\n\u001b[0;32m     19\u001b[0m \u001b[39mprint\u001b[39m(\u001b[39mf\u001b[39m\u001b[39m\"\u001b[39m\u001b[39mInference ID: \u001b[39m\u001b[39m{\u001b[39;00minference_id\u001b[39m}\u001b[39;00m\u001b[39m. Status: \u001b[39m\u001b[39m{\u001b[39;00mstatus\u001b[39m}\u001b[39;00m\u001b[39m\"\u001b[39m)\n",
            "\u001b[1;31mKeyError\u001b[0m: 'id'"
          ]
        }
      ],
      "source": [
        "# Now that we have a fine-tuned version of a model, we can\n",
        "# generate images using it. Notice how I'm using '@me' to \n",
        "# indicate I want pictures similar to the ones we upload to \n",
        "# fine tune this model.\n",
        "inference_id, status = generate_image(\n",
        "    model_id, \n",
        "    prompt=\"A photo of @me with a tall black hat and sunglasses\"\n",
        ")\n",
        "while status != \"finished\":\n",
        "    time.sleep(10)\n",
        "    inference_id, status, image = get_inference_job(model_id, inference_id)\n",
        "\n",
        "print(image)"
      ]
    },
    {
      "cell_type": "code",
      "execution_count": null,
      "metadata": {
        "id": "nJPkQfJhRih6"
      },
      "outputs": [],
      "source": []
    }
  ],
  "metadata": {
    "colab": {
      "provenance": []
    },
    "kernelspec": {
      "display_name": "Python 3",
      "name": "python3"
    },
    "language_info": {
      "codemirror_mode": {
        "name": "ipython",
        "version": 3
      },
      "file_extension": ".py",
      "mimetype": "text/x-python",
      "name": "python",
      "nbconvert_exporter": "python",
      "pygments_lexer": "ipython3",
      "version": "3.9.12"
    }
  },
  "nbformat": 4,
  "nbformat_minor": 0
}
